{
 "cells": [
  {
   "cell_type": "code",
   "execution_count": 2,
   "id": "d413013e",
   "metadata": {},
   "outputs": [],
   "source": [
    "import pandas as pd\n",
    "\n",
    "# Load conn.log (tab-separated, skip Zeek headers starting with '#')\n",
    "df = pd.read_csv(\"log/conn.log\", sep=\"\\t\", comment=\"#\", low_memory=False)"
   ]
  },
  {
   "cell_type": "code",
   "execution_count": 4,
   "id": "42a95290",
   "metadata": {},
   "outputs": [
    {
     "name": "stdout",
     "output_type": "stream",
     "text": [
      "Index(['1598035107.563126', 'CMqJrBueRFCBgvBg7', '192.168.99.52', '51587',\n",
      "       '68.183.138.51', '80', 'tcp', '-', '0.093621', '0', '137', 'SHR', 'T',\n",
      "       'F', '0.1', '^hadf', '0.2', '0.3', '6', '389', '-.1', '6.1'],\n",
      "      dtype='object')\n"
     ]
    }
   ],
   "source": [
    "print(df.columns)"
   ]
  }
 ],
 "metadata": {
  "kernelspec": {
   "display_name": "venv",
   "language": "python",
   "name": "python3"
  },
  "language_info": {
   "codemirror_mode": {
    "name": "ipython",
    "version": 3
   },
   "file_extension": ".py",
   "mimetype": "text/x-python",
   "name": "python",
   "nbconvert_exporter": "python",
   "pygments_lexer": "ipython3",
   "version": "3.12.3"
  }
 },
 "nbformat": 4,
 "nbformat_minor": 5
}
